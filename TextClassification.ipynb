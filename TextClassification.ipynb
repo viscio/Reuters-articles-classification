{
 "cells": [
  {
   "cell_type": "markdown",
   "metadata": {},
   "source": [
    "# REUTERS TEXT CLASSIFICATION - MICHELE VISCIARELLI\n",
    "In this notebook (written in Python3.7) I shall describe an example model for text classification using machine learning techniques. This notebook will contain:\n",
    "<ol>\n",
    "<li>A section dedicated on importing the data form the xml-like files in the dataset;</li>\n",
    "<li>Cleaning and preparing the data for the machine learning computation;</li>\n",
    "<li>An example of a machine learning solution for this task</li>\n",
    "<li>Some analysis on the results and the work needed to improve the classification task.</li>\n",
    "</ol>"
   ]
  },
  {
   "cell_type": "code",
   "execution_count": 1,
   "metadata": {},
   "outputs": [
    {
     "name": "stderr",
     "output_type": "stream",
     "text": [
      "Using TensorFlow backend.\n"
     ]
    }
   ],
   "source": [
    "import os\n",
    "import re\n",
    "import glob\n",
    "\n",
    "import numpy as np\n",
    "import pandas as pd\n",
    "from datetime import datetime\n",
    "\n",
    "from lxml import objectify\n",
    "\n",
    "from sklearn.feature_extraction.text import CountVectorizer\n",
    "from sklearn.preprocessing import LabelEncoder, OneHotEncoder\n",
    "from keras.preprocessing.text import Tokenizer\n",
    "from keras.preprocessing.sequence import pad_sequences\n",
    "from keras.utils import to_categorical\n",
    "from keras.models import Sequential\n",
    "from keras import layers"
   ]
  },
  {
   "cell_type": "code",
   "execution_count": 2,
   "metadata": {},
   "outputs": [
    {
     "data": {
      "text/plain": [
       "['data/reut2-000.sgm',\n",
       " 'data/reut2-001.sgm',\n",
       " 'data/reut2-002.sgm',\n",
       " 'data/reut2-003.sgm',\n",
       " 'data/reut2-004.sgm',\n",
       " 'data/reut2-005.sgm',\n",
       " 'data/reut2-006.sgm',\n",
       " 'data/reut2-007.sgm',\n",
       " 'data/reut2-008.sgm',\n",
       " 'data/reut2-009.sgm',\n",
       " 'data/reut2-010.sgm',\n",
       " 'data/reut2-011.sgm',\n",
       " 'data/reut2-012.sgm',\n",
       " 'data/reut2-013.sgm',\n",
       " 'data/reut2-014.sgm',\n",
       " 'data/reut2-015.sgm',\n",
       " 'data/reut2-016.sgm',\n",
       " 'data/reut2-017.sgm',\n",
       " 'data/reut2-018.sgm',\n",
       " 'data/reut2-019.sgm',\n",
       " 'data/reut2-020.sgm',\n",
       " 'data/reut2-021.sgm']"
      ]
     },
     "execution_count": 2,
     "metadata": {},
     "output_type": "execute_result"
    }
   ],
   "source": [
    "# Import all the relevant files\n",
    "files = sorted(glob.glob('data/*.sgm'))"
   ]
  },
  {
   "cell_type": "code",
   "execution_count": 3,
   "metadata": {},
   "outputs": [],
   "source": [
    "# Get the raw XML data, and generate a list with all the files\n",
    "xml_files = []\n",
    "for path in sorted(files):\n",
    "    # open xml file\n",
    "    xml_data = ''\n",
    "    # Use 'rb' options because some of the .sgm files had some issues with encoding/decoding\n",
    "    with open(path, 'rb') as f:\n",
    "        xml_data = f.read().decode('utf-8','ignore')\n",
    "        xml_files.append(xml_data)"
   ]
  },
  {
   "cell_type": "markdown",
   "metadata": {},
   "source": [
    "Now that we have loded everything, the parsing phase shall begin. First, we recognize some \"characteristic\" strings that pertain to certain data that we want to keep. Then, we will generate a new list with all the \"stripped docs\": every entry in the list should contain only one article. "
   ]
  },
  {
   "cell_type": "code",
   "execution_count": 4,
   "metadata": {},
   "outputs": [],
   "source": [
    "# Pater for single doc entry in every file\n",
    "doc_pattern = re.compile(r\"<REUTERS.*?<\\/REUTERS>\", re.S)\n",
    "# text bodies\n",
    "body_pattern = re.compile(r\"<BODY.*?<\\/BODY>\", re.S)\n",
    "# dates\n",
    "date_pattern = re.compile(r\"[0-9]+-[A-Z]{3}-[0-9]{4} *[0-9]{2}:[0-9]{2}:[0-9]{2}\\.[0-9]+\", re.S)\n",
    "# topics\n",
    "topics_pattern = re.compile(r\"<TOPICS><D>.*?<\\/D>\", re.S)\n",
    "# place\n",
    "places_pattern = re.compile(r\"<PLACES><D>.*?<\\/D>\", re.S)\n",
    "# people\n",
    "people_pattern = re.compile(r\"<PEOPLE.*?<\\/PEOPLE>\", re.S)\n",
    "# orgs\n",
    "orgs_pattern = re.compile(r\"<ORGS.*?<\\/ORGS>\", re.S)\n",
    "# exchanges\n",
    "exch_pattern = re.compile(r\"<EXCHANGES.*?<\\/EXCHANGES>\", re.S)\n",
    "# companies\n",
    "comp_pattern = re.compile(r\"<COMPANIES.*?<\\/COMPANIES>\", re.S)\n",
    "# author\n",
    "author_pattern = re.compile(r\"<AUTHOR.*?<\\/AUTHOR>\", re.S)\n",
    "# title\n",
    "title_pattern = re.compile(r\"<TITLE.*?<\\/TITLE>\", re.S)"
   ]
  },
  {
   "cell_type": "code",
   "execution_count": 5,
   "metadata": {},
   "outputs": [],
   "source": [
    "# Create a vector for all the separated docs\n",
    "stripped_docs = []\n",
    "for xml_file in xml_files:\n",
    "    docs = doc_pattern.findall(xml_file)\n",
    "    for i in range(len(docs)):\n",
    "        stripped = docs[i].rstrip('\\n')\n",
    "        stripped_docs.append(stripped)"
   ]
  },
  {
   "cell_type": "markdown",
   "metadata": {},
   "source": [
    "With the help of some \"helper\" functions (that are searching for specific patterns in the docs), we strip every single document of all the information that we need, and we save that in some vectors that later will be of use. "
   ]
  },
  {
   "cell_type": "code",
   "execution_count": 6,
   "metadata": {},
   "outputs": [],
   "source": [
    "# Helper function to find specific patterns in an xml record. \n",
    "def find_pattern(pattern, outlist, doc, topics = False, places = False, author = False, string = None):\n",
    "    datalist = pattern.findall(doc)\n",
    "    if datalist:\n",
    "        if topics:\n",
    "            datalist = re.sub(r\"<TOPICS><D>\", '', datalist[0])\n",
    "            datalist = re.sub('</D>$', '', datalist)\n",
    "            outlist.append(datalist)\n",
    "        elif places:\n",
    "            datalist = re.sub(r\"<PLACES><D>\", '', datalist[0])\n",
    "            datalist = re.sub('</D>$', '', datalist)\n",
    "            outlist.append(datalist)\n",
    "        elif author:\n",
    "            str1 = '<'+string+'>'\n",
    "            str2 = '</'+string+'>$'\n",
    "            datalist = re.sub(str1, '', datalist[0])\n",
    "            datalist = re.sub(str2, '', datalist)\n",
    "            datalist = re.sub(r\"    by \", '', datalist)\n",
    "            datalist = re.sub(r\"    By \", '', datalist)\n",
    "            datalist = re.sub(r\"    BY \", '', datalist)\n",
    "            datalist = re.sub(r\", Reuters\", '', datalist)\n",
    "            outlist.append(datalist)\n",
    "        else:\n",
    "            str1 = '<'+string+'>'\n",
    "            str2 = '</'+string+'>$'\n",
    "            datalist = re.sub(str1, '', datalist[0])\n",
    "            datalist = re.sub(str2, '', datalist)\n",
    "            outlist.append(datalist)\n",
    "    else: \n",
    "        outlist.append('')\n",
    "        \n",
    "    return outlist"
   ]
  },
  {
   "cell_type": "code",
   "execution_count": 7,
   "metadata": {},
   "outputs": [],
   "source": [
    "# Checking if it's possible to parse the xml using objectify:\n",
    "# xml_doc = objectify.fromstring(stripped_docs[0]) results in an error\n",
    "# reading characters of the type: &#5;&#5;&#5;C \n",
    "\n",
    "# Let's deal with these, removing them from the file\n",
    "faulty_string = re.compile(r\"&#\\d*;\")\n",
    "\n",
    "# support vectors for the quantities of interest\n",
    "data = {\n",
    "        'has_topics': [],\n",
    "        'lewissplit': [],\n",
    "        'cgisplit': [],\n",
    "        'newid': [],\n",
    "        'date': [],\n",
    "        'text_body': [],\n",
    "        'topic': [],\n",
    "        'place': [],\n",
    "        'people': [],\n",
    "        'org': [],\n",
    "        'exchange': [],\n",
    "        'company': [],\n",
    "        'author': [],\n",
    "        'title': [],\n",
    "       }\n",
    "\n",
    "# Actual information gathering loop\n",
    "for doc in stripped_docs:\n",
    "    \n",
    "    faulty_string = re.compile(r\"&#\\d*;\")\n",
    "    body = body_pattern.findall(doc)\n",
    "    \n",
    "    doc = faulty_string.sub('', doc)\n",
    "    doc_obj = objectify.fromstring(doc)\n",
    "    \n",
    "    # List of headers keywords:\n",
    "    # 0: TOPICS\n",
    "    # 1: LEWISSPLIT\n",
    "    # 2: CGISPLIT\n",
    "    # 3: OLDID\n",
    "    # 4: NEWID\n",
    "    data['has_topics'].append(doc_obj.items()[0][1])\n",
    "    data['lewissplit'].append(doc_obj.items()[1][1])\n",
    "    data['cgisplit'].append(doc_obj.items()[2][1])\n",
    "    data['newid'].append(doc_obj.items()[4][1])\n",
    "    \n",
    "    # dates (also dealing with missing values)\n",
    "    date_obj = date_pattern.findall(doc)\n",
    "    try:\n",
    "        date_obj = datetime.strptime(date_obj[0],'%d-%b-%Y %H:%M:%S.%f')\n",
    "        data['date'].append(date_obj)\n",
    "    except IndexError:\n",
    "        data['date'].append('')\n",
    "    \n",
    "    # gather data\n",
    "    data['text_body'] = find_pattern(body_pattern, data['text_body'], doc, string = 'BODY')\n",
    "    data['topic'] = find_pattern(topics_pattern, data['topic'] , doc, topics = True)\n",
    "    data['place'] = find_pattern(places_pattern, data['place'], doc, places = True)\n",
    "    data['people'] = find_pattern(people_pattern, data['people'], doc, string = 'PEOPLE')\n",
    "    data['org'] = find_pattern(orgs_pattern, data['org'], doc, string = 'ORGS')\n",
    "    data['exchange'] = find_pattern(exch_pattern, data['exchange'], doc, string = 'EXCHANGES')\n",
    "    data['company'] = find_pattern(comp_pattern, data['company'], doc, string = 'COMPANIES')\n",
    "    data['author'] = find_pattern(author_pattern, data['author'], doc, string = 'AUTHOR', author = True)\n",
    "    data['title'] = find_pattern(title_pattern, data['title'], doc, string = 'TITLE')"
   ]
  },
  {
   "cell_type": "markdown",
   "metadata": {},
   "source": [
    "With all the data nicely put in vectors, the easiest way to format it is to construct a DataFrame. They are easy to set up and to use, and they seem like the best strategy here to use. "
   ]
  },
  {
   "cell_type": "code",
   "execution_count": 8,
   "metadata": {},
   "outputs": [],
   "source": [
    "# Create Pandas dataframe with all the columns we are interested in\n",
    "# NOTE: I'm dropping OLDID because it seems just an old id, as the name says.\n",
    "# NEWID == id\n",
    "columns = ['newid', 'cgisplit', 'lewissplit', 'has_topics', \n",
    "           'date', 'topic', 'place', 'people', 'org', 'exchange', \n",
    "           'company', 'title', 'text_body', 'author']\n",
    "reuters_df = pd.DataFrame(columns = columns)\n",
    "\n",
    "# Actual dataframe to be used\n",
    "for col in columns:\n",
    "    reuters_df[col] = data[col]"
   ]
  },
  {
   "cell_type": "code",
   "execution_count": 9,
   "metadata": {},
   "outputs": [
    {
     "data": {
      "text/html": [
       "<div>\n",
       "<style scoped>\n",
       "    .dataframe tbody tr th:only-of-type {\n",
       "        vertical-align: middle;\n",
       "    }\n",
       "\n",
       "    .dataframe tbody tr th {\n",
       "        vertical-align: top;\n",
       "    }\n",
       "\n",
       "    .dataframe thead th {\n",
       "        text-align: right;\n",
       "    }\n",
       "</style>\n",
       "<table border=\"1\" class=\"dataframe\">\n",
       "  <thead>\n",
       "    <tr style=\"text-align: right;\">\n",
       "      <th></th>\n",
       "      <th>newid</th>\n",
       "      <th>cgisplit</th>\n",
       "      <th>lewissplit</th>\n",
       "      <th>has_topics</th>\n",
       "      <th>date</th>\n",
       "      <th>topic</th>\n",
       "      <th>place</th>\n",
       "      <th>people</th>\n",
       "      <th>org</th>\n",
       "      <th>exchange</th>\n",
       "      <th>company</th>\n",
       "      <th>title</th>\n",
       "      <th>text_body</th>\n",
       "      <th>author</th>\n",
       "    </tr>\n",
       "  </thead>\n",
       "  <tbody>\n",
       "    <tr>\n",
       "      <th>0</th>\n",
       "      <td>1</td>\n",
       "      <td>TRAINING-SET</td>\n",
       "      <td>TRAIN</td>\n",
       "      <td>YES</td>\n",
       "      <td>1987-02-26 15:01:01.790</td>\n",
       "      <td>cocoa</td>\n",
       "      <td>el-salvador</td>\n",
       "      <td></td>\n",
       "      <td></td>\n",
       "      <td></td>\n",
       "      <td></td>\n",
       "      <td>BAHIA COCOA REVIEW</td>\n",
       "      <td>Showers continued throughout the week in\\nthe ...</td>\n",
       "      <td></td>\n",
       "    </tr>\n",
       "    <tr>\n",
       "      <th>1</th>\n",
       "      <td>2</td>\n",
       "      <td>TRAINING-SET</td>\n",
       "      <td>TRAIN</td>\n",
       "      <td>NO</td>\n",
       "      <td>1987-02-26 15:02:20.000</td>\n",
       "      <td></td>\n",
       "      <td>usa</td>\n",
       "      <td></td>\n",
       "      <td></td>\n",
       "      <td></td>\n",
       "      <td></td>\n",
       "      <td>STANDARD OIL &amp;lt;SRD&gt; TO FORM FINANCIAL UNIT</td>\n",
       "      <td>Standard Oil Co and BP North America\\nInc said...</td>\n",
       "      <td></td>\n",
       "    </tr>\n",
       "    <tr>\n",
       "      <th>2</th>\n",
       "      <td>3</td>\n",
       "      <td>TRAINING-SET</td>\n",
       "      <td>TRAIN</td>\n",
       "      <td>NO</td>\n",
       "      <td>1987-02-26 15:03:27.510</td>\n",
       "      <td></td>\n",
       "      <td>usa</td>\n",
       "      <td></td>\n",
       "      <td></td>\n",
       "      <td></td>\n",
       "      <td></td>\n",
       "      <td>TEXAS COMMERCE BANCSHARES &amp;lt;TCB&gt; FILES PLAN</td>\n",
       "      <td>Texas Commerce Bancshares Inc's Texas\\nCommerc...</td>\n",
       "      <td></td>\n",
       "    </tr>\n",
       "    <tr>\n",
       "      <th>3</th>\n",
       "      <td>4</td>\n",
       "      <td>TRAINING-SET</td>\n",
       "      <td>TRAIN</td>\n",
       "      <td>NO</td>\n",
       "      <td>1987-02-26 15:07:13.720</td>\n",
       "      <td></td>\n",
       "      <td>usa</td>\n",
       "      <td></td>\n",
       "      <td></td>\n",
       "      <td></td>\n",
       "      <td></td>\n",
       "      <td>TALKING POINT/BANKAMERICA &amp;lt;BAC&gt; EQUITY OFFER</td>\n",
       "      <td>BankAmerica Corp is not under\\npressure to act...</td>\n",
       "      <td>Janie Gabbett</td>\n",
       "    </tr>\n",
       "    <tr>\n",
       "      <th>4</th>\n",
       "      <td>5</td>\n",
       "      <td>TRAINING-SET</td>\n",
       "      <td>TRAIN</td>\n",
       "      <td>YES</td>\n",
       "      <td>1987-02-26 15:10:44.600</td>\n",
       "      <td>grain</td>\n",
       "      <td>usa</td>\n",
       "      <td></td>\n",
       "      <td></td>\n",
       "      <td></td>\n",
       "      <td></td>\n",
       "      <td>NATIONAL AVERAGE PRICES FOR FARMER-OWNED RESERVE</td>\n",
       "      <td>The U.S. Agriculture Department\\nreported the ...</td>\n",
       "      <td></td>\n",
       "    </tr>\n",
       "  </tbody>\n",
       "</table>\n",
       "</div>"
      ],
      "text/plain": [
       "  newid      cgisplit lewissplit has_topics                    date  topic  \\\n",
       "0     1  TRAINING-SET      TRAIN        YES 1987-02-26 15:01:01.790  cocoa   \n",
       "1     2  TRAINING-SET      TRAIN         NO 1987-02-26 15:02:20.000          \n",
       "2     3  TRAINING-SET      TRAIN         NO 1987-02-26 15:03:27.510          \n",
       "3     4  TRAINING-SET      TRAIN         NO 1987-02-26 15:07:13.720          \n",
       "4     5  TRAINING-SET      TRAIN        YES 1987-02-26 15:10:44.600  grain   \n",
       "\n",
       "         place people org exchange company  \\\n",
       "0  el-salvador                               \n",
       "1          usa                               \n",
       "2          usa                               \n",
       "3          usa                               \n",
       "4          usa                               \n",
       "\n",
       "                                              title  \\\n",
       "0                                BAHIA COCOA REVIEW   \n",
       "1      STANDARD OIL &lt;SRD> TO FORM FINANCIAL UNIT   \n",
       "2     TEXAS COMMERCE BANCSHARES &lt;TCB> FILES PLAN   \n",
       "3   TALKING POINT/BANKAMERICA &lt;BAC> EQUITY OFFER   \n",
       "4  NATIONAL AVERAGE PRICES FOR FARMER-OWNED RESERVE   \n",
       "\n",
       "                                           text_body         author  \n",
       "0  Showers continued throughout the week in\\nthe ...                 \n",
       "1  Standard Oil Co and BP North America\\nInc said...                 \n",
       "2  Texas Commerce Bancshares Inc's Texas\\nCommerc...                 \n",
       "3  BankAmerica Corp is not under\\npressure to act...  Janie Gabbett  \n",
       "4  The U.S. Agriculture Department\\nreported the ...                 "
      ]
     },
     "execution_count": 9,
     "metadata": {},
     "output_type": "execute_result"
    }
   ],
   "source": [
    "# Example of the finished dataframe\n",
    "reuters_df.head()"
   ]
  },
  {
   "cell_type": "markdown",
   "metadata": {},
   "source": [
    "Now, we check for some issues in the data, and we deal with them. Mostly, we are going to focus on the text bodies and the topics, since these are the ones that are our features and targets, respectively. For example: there may be entries without text bodies, or without topics for us to use (here, the keyword 'has_topics' helps a lot). Also, we have to divide our set into train and test sets according to the 'lewissplit' column. "
   ]
  },
  {
   "cell_type": "code",
   "execution_count": 10,
   "metadata": {},
   "outputs": [],
   "source": [
    "# Some of the text bodies are empty. In the spirit of keeping it simple for the time being, \n",
    "# let's remove all the entries with empty text bodies\n",
    "reuters_df = reuters_df[reuters_df['text_body'].str.len() > 0]"
   ]
  },
  {
   "cell_type": "code",
   "execution_count": 11,
   "metadata": {},
   "outputs": [],
   "source": [
    "# First of all, let's divide the dataset in train and test with respect to LEWISSPLIT key\n",
    "train_df = reuters_df[reuters_df['lewissplit'] == 'TRAIN']\n",
    "test_df = reuters_df[reuters_df['lewissplit'] == 'TEST']"
   ]
  },
  {
   "cell_type": "code",
   "execution_count": 12,
   "metadata": {},
   "outputs": [
    {
     "name": "stdout",
     "output_type": "stream",
     "text": [
      "NO rows in train:  3687\n",
      "NO rows in test 2449\n",
      "BYPASS rows in train 416\n",
      "BYPASS rows in test 0\n"
     ]
    }
   ],
   "source": [
    "# Let's check if there are issues with has_topics keyword. To keep it simple for the moment, let's discard \n",
    "# all rows without topics (unfortunately, this leads to a loss of some data...)\n",
    "\n",
    "# Assess if there's data with NO or BYPASS topics in the splits\n",
    "print('NO rows in train: ', train_df[train_df['has_topics'] == 'NO'].shape[0])\n",
    "print('NO rows in test', test_df[test_df['has_topics'] == 'NO'].shape[0])\n",
    "print('BYPASS rows in train', train_df[train_df['has_topics'] == 'BYPASS'].shape[0])\n",
    "print('BYPASS rows in test', test_df[test_df['has_topics'] == 'BYPASS'].shape[0])\n",
    "\n",
    "# Drop rows\n",
    "train_df = train_df[train_df['has_topics'] != 'NO']\n",
    "train_df = train_df[train_df['has_topics'] != 'BYPASS']\n",
    "test_df = test_df[test_df['has_topics'] != 'NO']\n",
    "test_df = test_df[test_df['has_topics'] != 'BYPASS']"
   ]
  },
  {
   "cell_type": "markdown",
   "metadata": {},
   "source": [
    "Another subtle issue is the presence of topics that are only represented in the train or in the test set. These topics create issues, since in the best case scenario, the labels represented in the train set should be equal to the ones represented in the tes set. To keep it simple, we discard all the labels under-represented. "
   ]
  },
  {
   "cell_type": "code",
   "execution_count": 13,
   "metadata": {},
   "outputs": [
    {
     "name": "stdout",
     "output_type": "stream",
     "text": [
      "Unique labels in train:  78\n",
      "Unique labels in test:  63\n",
      "\n",
      "First cut re-evaluation:\n",
      "Unique labels in train:  78\n",
      "Unique labels in test:  60\n",
      "\n",
      "Second cut re-evaluation:\n",
      "Unique labels in train:  60\n",
      "Unique labels in test:  60\n"
     ]
    }
   ],
   "source": [
    "# How many unique topic labels are there in the dataset? \n",
    "print('Unique labels in train: ', len(train_df['topic'].unique()))\n",
    "print('Unique labels in test: ', len(test_df['topic'].unique()))\n",
    "\n",
    "# It seems that there are discrepancies in the number of labels in train and test. \n",
    "# Usually, you want to have the same labels in the train and the test sets. \n",
    "\n",
    "labels_train = train_df['topic'].unique()\n",
    "labels_test = test_df['topic'].unique()\n",
    "\n",
    "# Remove labels that are only in the test set\n",
    "test_df = test_df[~test_df['topic'].isin(np.setdiff1d(labels_test, labels_train))]\n",
    "\n",
    "print('')\n",
    "print('First cut re-evaluation:')\n",
    "print('Unique labels in train: ', len(train_df['topic'].unique()))\n",
    "print('Unique labels in test: ', len(test_df['topic'].unique()))\n",
    "\n",
    "# Remove labels that are only in the train set\n",
    "train_df = train_df[~train_df['topic'].isin(np.setdiff1d(labels_train, labels_test))]\n",
    "\n",
    "print('')\n",
    "print('Second cut re-evaluation:')\n",
    "print('Unique labels in train: ', len(train_df['topic'].unique()))\n",
    "print('Unique labels in test: ', len(test_df['topic'].unique()))"
   ]
  },
  {
   "cell_type": "markdown",
   "metadata": {},
   "source": [
    "Now, with all the checks completed, it's time to focus on the actual preparation of the dataset. Train text must be tokenized, and the categories of the test set must be converted in some One-hot encoding fashion. "
   ]
  },
  {
   "cell_type": "code",
   "execution_count": 14,
   "metadata": {},
   "outputs": [],
   "source": [
    "# Now, let's focus on the model. Our train set will be the text data itself. Our target, the topics. \n",
    "\n",
    "train_X = train_df['text_body'].values \n",
    "y_train = train_df['topic'].values\n",
    "test_X = test_df['text_body'].values\n",
    "y_test = test_df['topic'].values"
   ]
  },
  {
   "cell_type": "code",
   "execution_count": 15,
   "metadata": {},
   "outputs": [],
   "source": [
    "# Constuct a vocabulary for the input text bodies, and convert it into tokens\n",
    "\n",
    "# Define a tokenizer, fit it to our train split\n",
    "tokenizer = Tokenizer(num_words=5000)\n",
    "tokenizer.fit_on_texts(train_X)\n",
    "\n",
    "# Convert both train and test splits with the tokenizer fitted on the train set\n",
    "X_train = tokenizer.texts_to_sequences(train_X)\n",
    "X_test = tokenizer.texts_to_sequences(test_X)"
   ]
  },
  {
   "cell_type": "code",
   "execution_count": 16,
   "metadata": {},
   "outputs": [
    {
     "name": "stdout",
     "output_type": "stream",
     "text": [
      "Vocabilary size:  27723\n",
      "Max input tokenized vector length:  1232\n"
     ]
    }
   ],
   "source": [
    "# Let's look at the vocabulary size, and at the longest vector in our tokenized inputs\n",
    "vocab_size = len(tokenizer.word_index) + 1\n",
    "print('Vocabilary size: ', vocab_size)\n",
    "\n",
    "maxlen = []\n",
    "for i in range(len(X_train)):\n",
    "    maxlen.append(len(X_train[i]))\n",
    "\n",
    "maximum_sequence = max(maxlen)\n",
    "print('Max input tokenized vector length: ', maximum_sequence)"
   ]
  },
  {
   "cell_type": "code",
   "execution_count": 17,
   "metadata": {},
   "outputs": [],
   "source": [
    "# Padding shorter sequences to the length of the maximum one\n",
    "maxlen = maximum_sequence\n",
    "\n",
    "X_train = pad_sequences(X_train, padding='post', maxlen=maxlen)\n",
    "X_test = pad_sequences(X_test, padding='post', maxlen=maxlen)"
   ]
  },
  {
   "cell_type": "code",
   "execution_count": 18,
   "metadata": {},
   "outputs": [],
   "source": [
    "# Encoding the targets\n",
    "y_train = y_train.reshape(-1, 1)\n",
    "y_test = y_test.reshape(-1, 1)\n",
    "\n",
    "le = OneHotEncoder()\n",
    "le.fit(y_train)\n",
    "\n",
    "y_train = le.transform(y_train).toarray()\n",
    "y_test = le.transform(y_test).toarray()"
   ]
  },
  {
   "cell_type": "markdown",
   "metadata": {},
   "source": [
    "Let's now define some sort of a baseline model. Due to time constraints, it will be our only model, unfortunately. It's probably going to be unser-optimized (more on analysis of the results at the end), but it will serve as a first step for future evaluation."
   ]
  },
  {
   "cell_type": "code",
   "execution_count": 44,
   "metadata": {},
   "outputs": [
    {
     "name": "stdout",
     "output_type": "stream",
     "text": [
      "Model: \"sequential_12\"\n",
      "_________________________________________________________________\n",
      "Layer (type)                 Output Shape              Param #   \n",
      "=================================================================\n",
      "embedding_12 (Embedding)     (None, 1232, 20)          554460    \n",
      "_________________________________________________________________\n",
      "flatten_7 (Flatten)          (None, 24640)             0         \n",
      "_________________________________________________________________\n",
      "dense_19 (Dense)             (None, 10)                246410    \n",
      "_________________________________________________________________\n",
      "dense_20 (Dense)             (None, 60)                660       \n",
      "=================================================================\n",
      "Total params: 801,530\n",
      "Trainable params: 801,530\n",
      "Non-trainable params: 0\n",
      "_________________________________________________________________\n"
     ]
    }
   ],
   "source": [
    "# Let's build a very simple baseline model. In this case, a very simple MLR\n",
    "# Remember: 60 unique classes in output!\n",
    "embedding_dim = 20\n",
    "\n",
    "model = Sequential()\n",
    "model.add(layers.Embedding(input_dim=vocab_size, \n",
    "                           output_dim=embedding_dim, \n",
    "                           input_length=maxlen))\n",
    "model.add(layers.Flatten())\n",
    "model.add(layers.Dense(10, activation='relu'))\n",
    "model.add(layers.Dense(60, activation='softmax'))\n",
    "model.compile(optimizer='adam',\n",
    "              loss='categorical_crossentropy',\n",
    "              metrics=['accuracy'])\n",
    "model.summary()"
   ]
  },
  {
   "cell_type": "code",
   "execution_count": 45,
   "metadata": {},
   "outputs": [
    {
     "name": "stderr",
     "output_type": "stream",
     "text": [
      "/home/michele/ENVIRONMENTS/machinelearning/lib/python3.7/site-packages/tensorflow_core/python/framework/indexed_slices.py:433: UserWarning: Converting sparse IndexedSlices to a dense Tensor of unknown shape. This may consume a large amount of memory.\n",
      "  \"Converting sparse IndexedSlices to a dense Tensor of unknown shape. \"\n"
     ]
    },
    {
     "name": "stdout",
     "output_type": "stream",
     "text": [
      "Train on 8728 samples, validate on 3001 samples\n",
      "Epoch 1/20\n",
      "8728/8728 [==============================] - 12s 1ms/step - loss: 2.0524 - accuracy: 0.3535 - val_loss: 1.6030 - val_accuracy: 0.4289\n",
      "Epoch 2/20\n",
      "8728/8728 [==============================] - 14s 2ms/step - loss: 1.1941 - accuracy: 0.6532 - val_loss: 1.1936 - val_accuracy: 0.7131\n",
      "Epoch 3/20\n",
      "8728/8728 [==============================] - 10s 1ms/step - loss: 0.8111 - accuracy: 0.7909 - val_loss: 1.0721 - val_accuracy: 0.7358\n",
      "Epoch 4/20\n",
      "8728/8728 [==============================] - 8s 965us/step - loss: 0.5797 - accuracy: 0.8454 - val_loss: 1.0232 - val_accuracy: 0.7534\n",
      "Epoch 5/20\n",
      "8728/8728 [==============================] - 8s 968us/step - loss: 0.4228 - accuracy: 0.8884 - val_loss: 1.0613 - val_accuracy: 0.7634\n",
      "Epoch 6/20\n",
      "8728/8728 [==============================] - 8s 956us/step - loss: 0.3097 - accuracy: 0.9192 - val_loss: 1.1426 - val_accuracy: 0.7584\n",
      "Epoch 7/20\n",
      "8728/8728 [==============================] - 11s 1ms/step - loss: 0.2250 - accuracy: 0.9418 - val_loss: 1.2076 - val_accuracy: 0.7604\n",
      "Epoch 8/20\n",
      "8728/8728 [==============================] - 11s 1ms/step - loss: 0.1634 - accuracy: 0.9580 - val_loss: 1.2760 - val_accuracy: 0.7647\n",
      "Epoch 9/20\n",
      "8728/8728 [==============================] - 11s 1ms/step - loss: 0.1227 - accuracy: 0.9727 - val_loss: 1.3762 - val_accuracy: 0.7604\n",
      "Epoch 10/20\n",
      "8728/8728 [==============================] - 11s 1ms/step - loss: 0.0912 - accuracy: 0.9820 - val_loss: 1.4443 - val_accuracy: 0.7634\n",
      "Epoch 11/20\n",
      "8728/8728 [==============================] - 9s 1ms/step - loss: 0.0700 - accuracy: 0.9874 - val_loss: 1.6089 - val_accuracy: 0.7504\n",
      "Epoch 12/20\n",
      "8728/8728 [==============================] - 11s 1ms/step - loss: 0.0613 - accuracy: 0.9891 - val_loss: 1.6263 - val_accuracy: 0.7564\n",
      "Epoch 13/20\n",
      "8728/8728 [==============================] - 8s 970us/step - loss: 0.0508 - accuracy: 0.9912 - val_loss: 1.6879 - val_accuracy: 0.7537\n",
      "Epoch 14/20\n",
      "8728/8728 [==============================] - 8s 955us/step - loss: 0.0369 - accuracy: 0.9936 - val_loss: 1.8378 - val_accuracy: 0.7524\n",
      "Epoch 15/20\n",
      "8728/8728 [==============================] - 9s 983us/step - loss: 0.0385 - accuracy: 0.9934 - val_loss: 1.9113 - val_accuracy: 0.7524\n",
      "Epoch 16/20\n",
      "8728/8728 [==============================] - 8s 967us/step - loss: 0.0316 - accuracy: 0.9945 - val_loss: 1.9968 - val_accuracy: 0.7531\n",
      "Epoch 17/20\n",
      "8728/8728 [==============================] - 9s 994us/step - loss: 0.0239 - accuracy: 0.9952 - val_loss: 2.1175 - val_accuracy: 0.7438\n",
      "Epoch 18/20\n",
      "8728/8728 [==============================] - 11s 1ms/step - loss: 0.0294 - accuracy: 0.9955 - val_loss: 2.1367 - val_accuracy: 0.7557\n",
      "Epoch 19/20\n",
      "8728/8728 [==============================] - 12s 1ms/step - loss: 0.0329 - accuracy: 0.9946 - val_loss: 2.0798 - val_accuracy: 0.7541\n",
      "Epoch 20/20\n",
      "8728/8728 [==============================] - 11s 1ms/step - loss: 0.0222 - accuracy: 0.9959 - val_loss: 2.1440 - val_accuracy: 0.7567\n",
      "Training Accuracy: 0.9969\n",
      "Testing Accuracy:  0.7567\n"
     ]
    }
   ],
   "source": [
    "history = model.fit(X_train, y_train,\n",
    "                    epochs=20,\n",
    "                    verbose=1,\n",
    "                    validation_data=(X_test, y_test),\n",
    "                    batch_size=10)\n",
    "loss, accuracy = model.evaluate(X_train, y_train, verbose=False)\n",
    "print(\"Training Accuracy: {:.4f}\".format(accuracy))\n",
    "loss, accuracy = model.evaluate(X_test, y_test, verbose=False)\n",
    "print(\"Testing Accuracy:  {:.4f}\".format(accuracy))"
   ]
  },
  {
   "cell_type": "code",
   "execution_count": 46,
   "metadata": {},
   "outputs": [],
   "source": [
    "import matplotlib.pyplot as plt\n",
    "plt.style.use('ggplot')\n",
    "\n",
    "def plot_history(history):\n",
    "    acc = history.history['accuracy']\n",
    "    val_acc = history.history['val_accuracy']\n",
    "    loss = history.history['loss']\n",
    "    val_loss = history.history['val_loss']\n",
    "    x = range(1, len(acc) + 1)\n",
    "\n",
    "    plt.figure(figsize=(12, 5))\n",
    "    plt.subplot(1, 2, 1)\n",
    "    plt.plot(x, acc, 'b', label='Training acc')\n",
    "    plt.plot(x, val_acc, 'r', label='Validation acc')\n",
    "    plt.title('Training and validation accuracy')\n",
    "    plt.legend()\n",
    "    plt.subplot(1, 2, 2)\n",
    "    plt.plot(x, loss, 'b', label='Training loss')\n",
    "    plt.plot(x, val_loss, 'r', label='Validation loss')\n",
    "    plt.title('Training and validation loss')\n",
    "    plt.legend()"
   ]
  },
  {
   "cell_type": "code",
   "execution_count": 47,
   "metadata": {},
   "outputs": [
    {
     "data": {
      "image/png": "[encoded data removed]",
      "text/plain": [
       "<Figure size 864x360 with 2 Axes>"
      ]
     },
     "metadata": {},
     "output_type": "display_data"
    }
   ],
   "source": [
    "plot_history(history)"
   ]
  },
  {
   "cell_type": "markdown",
   "metadata": {},
   "source": [
    "## RESULTS DISCUSSION\n",
    "As the graphs suggest, the model is clearly overfitted. The difference between training and validation error and loss is too high, and rising after some epochs. Most probably it's related to the architecture of the neural network considered. Anyway, if someone wanted to catch the best \"operation point\" using this specific model, after the 4th epoch the validaiton loss starts to increase (and the validation accuracy to slightly decrease). Probably, 4 as the number of epochs is hte best for this hyperparameter in this case. <br>\n",
    "In this Notebook, a \"true\" baseline identification is also lacking. It would be beneificial to have a 0th-order model to defer ourselves to, usually it's something related to some classical-machine-learning model, that can even be a linear regression, or a Random Forest Classifier. <br>\n",
    "For this type of task, considering that the data can be clearly modelled as a time-series-alike, the use of Recurrent Neural Networks can provide better results. These types of networks are particularly suited for problems for which the input data is clearly structured in a sequence, as is in our case, and an exploration of the potential of that architecture is necessary. <br>\n",
    "Another part that is missing due to the lack of time is a proper grid-type search for the best hyperparameter for the model. I would structure a search based on parallel execution of various scripts, each script pertaining to a different architecture (deeper, different number of neurons per layers, etc...) in which a GridSearch based on other parameters such as batch size, optimizer, activation function (and other hyperparameters not strictly related to the topology of the network) would be performed. \n",
    "<br> This would lead to a complete picture for the identification of the best performing model among all the ones considered. "
   ]
  },
  {
   "cell_type": "code",
   "execution_count": null,
   "metadata": {},
   "outputs": [],
   "source": []
  }
 ],
 "metadata": {
  "kernelspec": {
   "display_name": "Python 3",
   "language": "python",
   "name": "python3"
  },
  "language_info": {
   "codemirror_mode": {
    "name": "ipython",
    "version": 3
   },
   "file_extension": ".py",
   "mimetype": "text/x-python",
   "name": "python",
   "nbconvert_exporter": "python",
   "pygments_lexer": "ipython3",
   "version": "3.7.6"
  }
 },
 "nbformat": 4,
 "nbformat_minor": 4
}
